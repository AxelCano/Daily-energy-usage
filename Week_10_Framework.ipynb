{
 "cells": [
  {
   "cell_type": "code",
   "execution_count": 1,
   "id": "9bda6839-1760-48dd-92d9-9ed1a85595d4",
   "metadata": {},
   "outputs": [],
   "source": [
    "import pandas as pd\n",
    "import matplotlib.pyplot as plt\n",
    "import numpy as np"
   ]
  },
  {
   "cell_type": "code",
   "execution_count": 26,
   "id": "7cbbcefc-ad5e-4a4b-b4ac-919d55551ad1",
   "metadata": {},
   "outputs": [],
   "source": [
    "def read_energy_data(path):\n",
    "    try: \n",
    "        df = pd.read_csv(path, parse_dates = ['date'])\n",
    "        df.dropna(subset = ['energy_usage'], inplace = True)\n",
    "        df['energy_usage'] = pd.to_numeric(df['energy_usage'], errors  = 'coerce')\n",
    "        df.dropna(subset = ['energy_usage'], inplace = True)\n",
    "        return df\n",
    "    except Exception as e:\n",
    "        print(f'Error reading File: {e}')\n",
    "        return pd.DataFrame()\n",
    "\n",
    "def calculate_statistics(df):\n",
    "    total = df['energy_usage'].sum()\n",
    "    average = df['energy_usage'].mean()\n",
    "    return total, average\n",
    "\n",
    "def detect_outliers(df, threshold = 2):\n",
    "    \"based on z-score\"\n",
    "    mean = df['energy_usage'].mean()\n",
    "    std = df['energy_usage'].std()\n",
    "    df['z_score'] = (df['energy_usage'] - mean) / std\n",
    "    df['is_outlier'] = df['z_score'].abs() > threshold\n",
    "    return df\n",
    "\n",
    "def summary_report(df, total, average, output_path = 'Summary_report.txt', format = 'txt'):\n",
    "    outliers = df[df['is_outlier']]\n",
    "\n",
    "    if format == 'txt':\n",
    "        with open(output_path, 'w') as f:\n",
    "            f.write(f'Total energy usage: {total:.2f}\\n')\n",
    "            f.write(f'Average daily usage: {average:.2f}\\n')\n",
    "            f.write(f'Outliers detected: {len(outliers)}\\n\\n')\n",
    "            for _, row in outliers.iterrows():\n",
    "                f.write(f'{row['date'].date()} - Usage: {row['energy_usage']:.2f} - Z-score: {row['z_score']:.2f}\\n')\n",
    "    elif format == 'csv':\n",
    "        outliers.to_csv(output_path, index = False)\n",
    "\n",
    "def energy_usage_plot(df, output_path = 'energy_usage_plot.png'):\n",
    "    \"Plotting energy usage and highlights outliers\"\n",
    "    plt.figure(figsize = (12,6))\n",
    "    plt.plot(df['date'], df['energy_usage'], label = 'Energy Usage', marker = 'o', linestyle = '-')\n",
    "    outliers = df[df['is_outlier']]\n",
    "    plt.scatter(outliers['date'], outliers['energy_usage'], color = 'red', label = 'Outliers', zorder = 5)\n",
    "    plt.xlabel('Date')\n",
    "    plt.ylabel('Energy Usage')\n",
    "    plt.title('Daily usage with outliers highlighted')\n",
    "    plt.legend()\n",
    "    plt.grid(True)\n",
    "    plt.tight_layout()\n",
    "    plt.savefig(output_path)\n",
    "    plt.close()\n",
    "    "
   ]
  },
  {
   "cell_type": "code",
   "execution_count": 27,
   "id": "d84ed09b-2a4b-4457-b5c7-55e889511e64",
   "metadata": {},
   "outputs": [
    {
     "name": "stdout",
     "output_type": "stream",
     "text": [
      "Report written to summary_report.txt\n",
      "Plot saved as energy_usage_plot.png\n"
     ]
    }
   ],
   "source": [
    "def main():\n",
    "    input_file = 'daily_energy_usage_sample_100_days.csv'\n",
    "    report_file = 'summary_report.txt'\n",
    "    plot_file = 'energy_usage_plot.png'\n",
    "\n",
    "    df = read_energy_data(input_file)\n",
    "    if df.empty:\n",
    "        print(\"No valid data found\")\n",
    "        return\n",
    "\n",
    "    total, average = calculate_statistics(df)\n",
    "    df = detect_outliers(df)\n",
    "\n",
    "    summary_report(df, total, average, output_path = report_file, format = 'txt')\n",
    "    energy_usage_plot(df, output_path = plot_file)\n",
    "\n",
    "    print(f'Report written to {report_file}')\n",
    "    print(f'Plot saved as {plot_file}')\n",
    "\n",
    "if __name__ == '__main__':\n",
    "    main()"
   ]
  },
  {
   "cell_type": "code",
   "execution_count": null,
   "id": "67c578e3-12e8-4e20-b57c-041186455a37",
   "metadata": {},
   "outputs": [],
   "source": []
  }
 ],
 "metadata": {
  "kernelspec": {
   "display_name": "Python 3 (ipykernel)",
   "language": "python",
   "name": "python3"
  },
  "language_info": {
   "codemirror_mode": {
    "name": "ipython",
    "version": 3
   },
   "file_extension": ".py",
   "mimetype": "text/x-python",
   "name": "python",
   "nbconvert_exporter": "python",
   "pygments_lexer": "ipython3",
   "version": "3.12.6"
  }
 },
 "nbformat": 4,
 "nbformat_minor": 5
}
